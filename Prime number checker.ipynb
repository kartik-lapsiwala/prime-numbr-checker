{
 "cells": [
  {
   "cell_type": "markdown",
   "metadata": {},
   "source": [
    "### Prime number checker program"
   ]
  },
  {
   "cell_type": "code",
   "execution_count": 8,
   "metadata": {},
   "outputs": [
    {
     "name": "stdout",
     "output_type": "stream",
     "text": [
      "Enter a number :36\n",
      "36 is not a prime number.\n",
      "2 x 18 is 36\n"
     ]
    }
   ],
   "source": [
    "def prime(number):\n",
    "    for i in range(2,number):\n",
    "        if number%i == 0:\n",
    "            print('{} is not a prime number.'.format(number))\n",
    "            print('{} x {} is {}'.format(i,number//i,number))\n",
    "            break\n",
    "    else:\n",
    "        print('{} is a prime number.'.format(number))\n",
    "isprime = int(input('Enter a number :'))\n",
    "prime(isprime)"
   ]
  },
  {
   "cell_type": "code",
   "execution_count": 4,
   "metadata": {},
   "outputs": [
    {
     "name": "stdout",
     "output_type": "stream",
     "text": [
      "2 is a prime number\n",
      "3 is a prime number\n",
      "4 is not a prime number...4 = 2 * 2\n",
      "5 is a prime number\n",
      "6 is not a prime number...6 = 2 * 3\n",
      "7 is a prime number\n",
      "8 is not a prime number...8 = 2 * 4\n",
      "9 is not a prime number...9 = 3 * 3\n"
     ]
    }
   ],
   "source": [
    "for n in range(2,10): #[2,3,4,5,6,7,8,9]\n",
    "    for i in range(2,n): # [],[2,3],[2,3,4],[2,3,4,5],...\n",
    "        if n % i == 0:\n",
    "            print(f'{n} is not a prime number...{n} = {i} * {n//i}')\n",
    "            break\n",
    "    else:\n",
    "        print(f'{n} is a prime number')"
   ]
  }
 ],
 "metadata": {
  "kernelspec": {
   "display_name": "Python 3",
   "language": "python",
   "name": "python3"
  },
  "language_info": {
   "codemirror_mode": {
    "name": "ipython",
    "version": 3
   },
   "file_extension": ".py",
   "mimetype": "text/x-python",
   "name": "python",
   "nbconvert_exporter": "python",
   "pygments_lexer": "ipython3",
   "version": "3.6.4"
  }
 },
 "nbformat": 4,
 "nbformat_minor": 2
}
